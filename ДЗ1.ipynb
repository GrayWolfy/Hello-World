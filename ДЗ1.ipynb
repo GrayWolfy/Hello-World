{
 "cells": [
  {
   "cell_type": "code",
   "execution_count": 1,
   "metadata": {
    "collapsed": false
   },
   "outputs": [
    {
     "name": "stdout",
     "output_type": "stream",
     "text": [
      "Здарвствуй дивный новый мир!!!\n"
     ]
    }
   ],
   "source": [
    "print 'Здарвствуй дивный новый мир!!!'"
   ]
  },
  {
   "cell_type": "markdown",
   "metadata": {
    "raw_mimetype": "text/restructuredtext"
   },
   "source": [
    "1)Хочу научиться программированию.\n",
    "\n",
    "2)Понял что мне это интересно с достаточно большой неожиданностью для себя. Раньше не нравилось.\n",
    "\n",
    "3)Хочу научиться машинному обучению.\n",
    "\n",
    "4)Хочу научиться писать достаточно хорошо, чтобы пройти первый отбор в ШАД.\n",
    "\n",
    "5)5Хочу научиться написать достаточно хорошо, чтобы и второй отбор пройти.\n",
    "\n",
    "6)Хочу пройти Ваш курс от МФТИ на coursera и курс Яндекса на coursera.(пробовал, но без умения писать код сложно)"
   ]
  },
  {
   "cell_type": "code",
   "execution_count": 1,
   "metadata": {
    "collapsed": false
   },
   "outputs": [
    {
     "name": "stdout",
     "output_type": "stream",
     "text": [
      "0\n"
     ]
    }
   ],
   "source": [
    "# p - процентная ставка\n",
    "# f - капитализация\n",
    "# S - сумма вклада\n",
    "# L - длительность вклада\n",
    "\n",
    "profit = 200000 * ((1 + 8 / (100 * 12)) ** (12 * 5)) - 200000\n",
    "print profit"
   ]
  },
  {
   "cell_type": "code",
   "execution_count": null,
   "metadata": {
    "collapsed": true
   },
   "outputs": [],
   "source": [
    "p = 8\n",
    "f = 12\n",
    "S = 200000\n",
    "L = 5\n",
    "profit = S * (1 + p / 100 * f) ** (f * l) - S\n",
    "print profit"
   ]
  },
  {
   "cell_type": "code",
   "execution_count": 3,
   "metadata": {
    "collapsed": false
   },
   "outputs": [
    {
     "name": "stdout",
     "output_type": "stream",
     "text": [
      "56\n",
      "456\n",
      "486\n",
      "4\n",
      "0\n"
     ]
    }
   ],
   "source": [
    "p = int(input())\n",
    "f = int(input())\n",
    "S = int(input())\n",
    "L = int(input())\n",
    "profit = S * (1 + p / (100 * f)) ** (f * L) - S\n",
    "print int(profit)"
   ]
  },
  {
   "cell_type": "raw",
   "metadata": {
    "raw_mimetype": "text/latex"
   },
   "source": [
    "S * (1 + p / 100 * f) ** (f * L) - S"
   ]
  },
  {
   "cell_type": "markdown",
   "metadata": {},
   "source": [
    "Не понимаю почему не преобразует формулу в Latex...\n",
    "Не понимаю почему при делении / ведет себя как при целочисленном //. У меня получается 0...\n",
    "Я поставил две анаконды и 2-ку и 3-ку. Сначала 3-ку. Может какой-то конфликт у них? До этого стояла тройка\n",
    "и с операциями было все нормально, а сейчас что-то поломалось..."
   ]
  },
  {
   "cell_type": "code",
   "execution_count": null,
   "metadata": {
    "collapsed": true
   },
   "outputs": [],
   "source": []
  }
 ],
 "metadata": {
  "celltoolbar": "Raw Cell Format",
  "kernelspec": {
   "display_name": "Python 2",
   "language": "python",
   "name": "python2"
  },
  "language_info": {
   "codemirror_mode": {
    "name": "ipython",
    "version": 2
   },
   "file_extension": ".py",
   "mimetype": "text/x-python",
   "name": "python",
   "nbconvert_exporter": "python",
   "pygments_lexer": "ipython2",
   "version": "2.7.13"
  }
 },
 "nbformat": 4,
 "nbformat_minor": 2
}
